{
  "nbformat": 4,
  "nbformat_minor": 0,
  "metadata": {
    "colab": {
      "provenance": [],
      "gpuType": "T4"
    },
    "kernelspec": {
      "name": "python3",
      "display_name": "Python 3"
    },
    "language_info": {
      "name": "python"
    },
    "accelerator": "GPU"
  },
  "cells": [
    {
      "cell_type": "code",
      "execution_count": null,
      "metadata": {
        "colab": {
          "base_uri": "https://localhost:8080/"
        },
        "id": "rw0BGeeB6iQi",
        "outputId": "1edc3187-469e-4406-87e7-1ec1a7e11bb8"
      },
      "outputs": [
        {
          "output_type": "stream",
          "name": "stdout",
          "text": [
            "Accuracy: 0.5728303034912908\n",
            "\n",
            "Classification Report:\n",
            "              precision    recall  f1-score   support\n",
            "\n",
            "           0       0.37      0.25      0.30      4739\n",
            "           1       0.64      0.75      0.69      8408\n",
            "\n",
            "    accuracy                           0.57     13147\n",
            "   macro avg       0.50      0.50      0.50     13147\n",
            "weighted avg       0.54      0.57      0.55     13147\n",
            "\n"
          ]
        }
      ],
      "source": [
        "import pandas as pd\n",
        "from sklearn.model_selection import train_test_split\n",
        "from sklearn.neighbors import KNeighborsClassifier\n",
        "from sklearn.metrics import accuracy_score, classification_report\n",
        "from sklearn.impute import SimpleImputer\n",
        "from sklearn.preprocessing import LabelEncoder\n",
        "\n",
        "# Load the dataset\n",
        "df = pd.read_csv('/content/main_grid.csv')\n",
        "\n",
        "# Assuming 'grid_stability' is the column indicating stability (1 for stable, 0 for unstable)\n",
        "label_encoder = LabelEncoder()\n",
        "df['stability'] = label_encoder.fit_transform(df['stability'])\n",
        "\n",
        "# Convert DateTime column to datetime type and extract useful features\n",
        "df['DateTime'] = pd.to_datetime(df['DateTime'], format='%Y-%m-%d %H:%M:%S')\n",
        "df['Year'] = df['DateTime'].dt.year\n",
        "df['Month'] = df['DateTime'].dt.month\n",
        "df['Day'] = df['DateTime'].dt.day\n",
        "df['Hour'] = df['DateTime'].dt.hour\n",
        "df['Minute'] = df['DateTime'].dt.minute\n",
        "\n",
        "# Assuming 'grid_stability' is the column indicating stability (1 for stable, 0 for unstable)\n",
        "# Modify this according to your actual dataset\n",
        "X = df[['Year', 'Month', 'Day', 'Hour', 'Minute', 'Power_Training_Predicted_Values', 'power_gen_1', 'power_gen_2', 'power_gen_3', 'c1', 'c2', 'c3', 'p1', 'p2', 'p3']]  # Features\n",
        "y = df['stability']  # Target variable\n",
        "\n",
        "# Split the dataset into train and test sets\n",
        "X_train, X_test, y_train, y_test = train_test_split(X, y, test_size=0.3, random_state=42)\n",
        "\n",
        "# Impute missing values\n",
        "imputer = SimpleImputer(strategy='mean')\n",
        "X_train_imputed = imputer.fit_transform(X_train)\n",
        "\n",
        "# Initialize and train the KNN model\n",
        "k = 5  # Number of neighbors\n",
        "knn_model = KNeighborsClassifier(n_neighbors=k)\n",
        "knn_model.fit(X_train_imputed, y_train)\n",
        "\n",
        "# Impute missing values for test set\n",
        "X_test_imputed = imputer.transform(X_test)\n",
        "\n",
        "# Predictions on the test set\n",
        "y_pred = knn_model.predict(X_test_imputed)\n",
        "\n",
        "# Evaluate the model\n",
        "accuracy = accuracy_score(y_test, y_pred)\n",
        "print(\"Accuracy:\", accuracy)\n",
        "print(\"\\nClassification Report:\")\n",
        "print(classification_report(y_test, y_pred))\n"
      ]
    },
    {
      "cell_type": "code",
      "source": [
        "import pandas as pd\n",
        "from sklearn.model_selection import train_test_split\n",
        "from sklearn.neighbors import KNeighborsClassifier\n",
        "from sklearn.metrics import accuracy_score, classification_report\n",
        "from sklearn.impute import SimpleImputer\n",
        "from sklearn.preprocessing import LabelEncoder\n",
        "\n",
        "# Load the dataset\n",
        "df = pd.read_csv('/content/grid_stability_3months_validation_data.csv')\n",
        "\n",
        "# Assuming 'grid_stability' is the column indicating stability (1 for stable, 0 for unstable)\n",
        "label_encoder = LabelEncoder()\n",
        "df['stability'] = label_encoder.fit_transform(df['stability'])\n",
        "\n",
        "# Convert DateTime column to datetime type and extract useful features\n",
        "df['DateTime'] = pd.to_datetime(df['DateTime'], format='%Y-%m-%d %H:%M:%S')\n",
        "df['Year'] = df['DateTime'].dt.year\n",
        "df['Month'] = df['DateTime'].dt.month\n",
        "df['Day'] = df['DateTime'].dt.day\n",
        "df['Hour'] = df['DateTime'].dt.hour\n",
        "df['Minute'] = df['DateTime'].dt.minute\n",
        "\n",
        "# Assuming 'grid_stability' is the column indicating stability (1 for stable, 0 for unstable)\n",
        "# Modify this according to your actual dataset\n",
        "X = df[['Year', 'Month', 'Day', 'Hour', 'Minute', 'Power_Training_Predicted_values', 'power_gen_1', 'power_gen_2', 'power_gen_3', 'c1', 'c2', 'c3', 'p1', 'p2', 'p3']]  # Features\n",
        "y = df['stability']  # Target variable\n",
        "\n",
        "# Split the dataset into train and test sets\n",
        "X_train, X_test, y_train, y_test = train_test_split(X, y, test_size=0.3, random_state=42)\n",
        "\n",
        "# Impute missing values\n",
        "imputer = SimpleImputer(strategy='mean')\n",
        "X_train_imputed = imputer.fit_transform(X_train)\n",
        "\n",
        "# Initialize and train the KNN model\n",
        "k = 5  # Number of neighbors\n",
        "knn_model = KNeighborsClassifier(n_neighbors=k)\n",
        "knn_model.fit(X_train_imputed, y_train)\n",
        "\n",
        "# Impute missing values for test set\n",
        "X_test_imputed = imputer.transform(X_test)\n",
        "\n",
        "# Predictions on the test set\n",
        "y_pred = knn_model.predict(X_test_imputed)\n",
        "\n",
        "# Evaluate the model\n",
        "accuracy = accuracy_score(y_test, y_pred)\n",
        "print(\"Accuracy:\", accuracy)\n",
        "print(\"\\nClassification Report:\")\n",
        "print(classification_report(y_test, y_pred))\n"
      ],
      "metadata": {
        "colab": {
          "base_uri": "https://localhost:8080/"
        },
        "id": "vAQCrk5Z7Xd3",
        "outputId": "f1735a12-9231-4ac6-da6e-9ec9d32f813f"
      },
      "execution_count": null,
      "outputs": [
        {
          "output_type": "stream",
          "name": "stdout",
          "text": [
            "Accuracy: 0.5442073170731707\n",
            "\n",
            "Classification Report:\n",
            "              precision    recall  f1-score   support\n",
            "\n",
            "           0       0.28      0.14      0.19       246\n",
            "           1       0.60      0.79      0.68       410\n",
            "\n",
            "    accuracy                           0.54       656\n",
            "   macro avg       0.44      0.46      0.44       656\n",
            "weighted avg       0.48      0.54      0.50       656\n",
            "\n"
          ]
        }
      ]
    },
    {
      "cell_type": "code",
      "source": [
        "import pandas as pd\n",
        "from sklearn.model_selection import train_test_split\n",
        "from sklearn.svm import SVC\n",
        "from sklearn.metrics import accuracy_score, classification_report\n",
        "from sklearn.impute import SimpleImputer\n",
        "from sklearn.preprocessing import LabelEncoder\n",
        "\n",
        "# Load the dataset\n",
        "df = pd.read_csv('/content/main_grid.csv')\n",
        "\n",
        "# Assuming 'grid_stability' is the column indicating stability (1 for stable, 0 for unstable)\n",
        "label_encoder = LabelEncoder()\n",
        "df['stability'] = label_encoder.fit_transform(df['stability'])\n",
        "\n",
        "# Convert DateTime column to datetime type and extract useful features\n",
        "df['DateTime'] = pd.to_datetime(df['DateTime'], format='%Y-%m-%d %H:%M:%S')\n",
        "df['Year'] = df['DateTime'].dt.year\n",
        "df['Month'] = df['DateTime'].dt.month\n",
        "df['Day'] = df['DateTime'].dt.day\n",
        "df['Hour'] = df['DateTime'].dt.hour\n",
        "df['Minute'] = df['DateTime'].dt.minute\n",
        "\n",
        "# Assuming 'grid_stability' is the column indicating stability (1 for stable, 0 for unstable)\n",
        "# Modify this according to your actual dataset\n",
        "X = df[['Year', 'Month', 'Day', 'Hour', 'Minute', 'Power_Training_Predicted_Values', 'power_gen_1', 'power_gen_2', 'power_gen_3', 'c1', 'c2', 'c3', 'p1', 'p2', 'p3']]  # Features\n",
        "y = df['stability']  # Target variable\n",
        "\n",
        "# Split the dataset into train and test sets\n",
        "X_train, X_test, y_train, y_test = train_test_split(X, y, test_size=0.3, random_state=42)\n",
        "\n",
        "# Impute missing values\n",
        "imputer = SimpleImputer(strategy='mean')\n",
        "X_train_imputed = imputer.fit_transform(X_train)\n",
        "\n",
        "# Initialize and train the SVM model\n",
        "svm_model = SVC(kernel='linear')  # You can change the kernel type as per your requirement\n",
        "svm_model.fit(X_train_imputed, y_train)\n",
        "\n",
        "# Impute missing values for test set\n",
        "X_test_imputed = imputer.transform(X_test)\n",
        "\n",
        "# Predictions on the test set\n",
        "y_pred = svm_model.predict(X_test_imputed)\n",
        "\n",
        "# Evaluate the model\n",
        "accuracy = accuracy_score(y_test, y_pred)\n",
        "print(\"Accuracy:\", accuracy)\n",
        "print(\"\\nClassification Report:\")\n",
        "print(classification_report(y_test, y_pred))\n"
      ],
      "metadata": {
        "colab": {
          "base_uri": "https://localhost:8080/"
        },
        "id": "SwhYKJgSACCK",
        "outputId": "970614bf-814f-4b13-c3d4-03728d74c216"
      },
      "execution_count": null,
      "outputs": [
        {
          "output_type": "stream",
          "name": "stdout",
          "text": [
            "Accuracy: 0.7174260287518065\n",
            "\n",
            "Classification Report:\n",
            "              precision    recall  f1-score   support\n",
            "\n",
            "           0       0.66      0.44      0.53      4739\n",
            "           1       0.73      0.87      0.80      8408\n",
            "\n",
            "    accuracy                           0.72     13147\n",
            "   macro avg       0.70      0.66      0.66     13147\n",
            "weighted avg       0.71      0.72      0.70     13147\n",
            "\n"
          ]
        }
      ]
    },
    {
      "cell_type": "code",
      "source": [
        "import pandas as pd\n",
        "from sklearn.model_selection import train_test_split\n",
        "from sklearn.svm import SVC\n",
        "from sklearn.metrics import accuracy_score, classification_report\n",
        "from sklearn.impute import SimpleImputer\n",
        "from sklearn.preprocessing import LabelEncoder\n",
        "\n",
        "# Load the dataset\n",
        "df = pd.read_csv('/content/grid_stability_3months_validation_data.csv')\n",
        "\n",
        "# Assuming 'grid_stability' is the column indicating stability (1 for stable, 0 for unstable)\n",
        "label_encoder = LabelEncoder()\n",
        "df['stability'] = label_encoder.fit_transform(df['stability'])\n",
        "\n",
        "# Convert DateTime column to datetime type and extract useful features\n",
        "df['DateTime'] = pd.to_datetime(df['DateTime'], format='%Y-%m-%d %H:%M:%S')\n",
        "df['Year'] = df['DateTime'].dt.year\n",
        "df['Month'] = df['DateTime'].dt.month\n",
        "df['Day'] = df['DateTime'].dt.day\n",
        "df['Hour'] = df['DateTime'].dt.hour\n",
        "df['Minute'] = df['DateTime'].dt.minute\n",
        "\n",
        "# Assuming 'grid_stability' is the column indicating stability (1 for stable, 0 for unstable)\n",
        "# Modify this according to your actual dataset\n",
        "X = df[['Year', 'Month', 'Day', 'Hour', 'Minute', 'Power_Training_Predicted_values', 'power_gen_1', 'power_gen_2', 'power_gen_3', 'c1', 'c2', 'c3', 'p1', 'p2', 'p3']]  # Features\n",
        "y = df['stability']  # Target variable\n",
        "\n",
        "# Split the dataset into train and test sets\n",
        "X_train, X_test, y_train, y_test = train_test_split(X, y, test_size=0.3, random_state=42)\n",
        "\n",
        "# Impute missing values\n",
        "imputer = SimpleImputer(strategy='mean')\n",
        "X_train_imputed = imputer.fit_transform(X_train)\n",
        "\n",
        "# Initialize and train the SVM model\n",
        "svm_model = SVC(kernel='linear')  # You can change the kernel type as per your requirement\n",
        "svm_model.fit(X_train_imputed, y_train)\n",
        "\n",
        "# Impute missing values for test set\n",
        "X_test_imputed = imputer.transform(X_test)\n",
        "\n",
        "# Predictions on the test set\n",
        "y_pred = svm_model.predict(X_test_imputed)\n",
        "\n",
        "# Evaluate the model\n",
        "accuracy = accuracy_score(y_test, y_pred)\n",
        "print(\"Accuracy:\", accuracy)\n",
        "print(\"\\nClassification Report:\")\n",
        "print(classification_report(y_test, y_pred))\n"
      ],
      "metadata": {
        "colab": {
          "base_uri": "https://localhost:8080/"
        },
        "id": "PlDuQV7PAC7r",
        "outputId": "d73a2ada-d961-4977-803a-7850fdc778cd"
      },
      "execution_count": null,
      "outputs": [
        {
          "output_type": "stream",
          "name": "stdout",
          "text": [
            "Accuracy: 0.6859756097560976\n",
            "\n",
            "Classification Report:\n",
            "              precision    recall  f1-score   support\n",
            "\n",
            "           0       0.65      0.35      0.45       246\n",
            "           1       0.69      0.89      0.78       410\n",
            "\n",
            "    accuracy                           0.69       656\n",
            "   macro avg       0.67      0.62      0.62       656\n",
            "weighted avg       0.68      0.69      0.66       656\n",
            "\n"
          ]
        }
      ]
    },
    {
      "cell_type": "code",
      "source": [],
      "metadata": {
        "id": "yHjJECeiAlps"
      },
      "execution_count": null,
      "outputs": []
    }
  ]
}