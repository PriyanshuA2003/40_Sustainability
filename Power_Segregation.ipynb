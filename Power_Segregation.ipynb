{
  "nbformat": 4,
  "nbformat_minor": 0,
  "metadata": {
    "colab": {
      "provenance": []
    },
    "kernelspec": {
      "name": "python3",
      "display_name": "Python 3"
    },
    "language_info": {
      "name": "python"
    }
  },
  "cells": [
    {
      "cell_type": "code",
      "execution_count": 2,
      "metadata": {
        "colab": {
          "base_uri": "https://localhost:8080/"
        },
        "id": "2ssL2FLR49rX",
        "outputId": "59da18d2-afdb-4b07-ebac-0dfdcf1f9748"
      },
      "outputs": [
        {
          "output_type": "stream",
          "name": "stdout",
          "text": [
            "              DateTime  Power_predicted_values  power_gen_1  power_gen_2  \\\n",
            "0  2024-01-01 03:00:00               53.097370    10.619474    23.893816   \n",
            "1  2024-01-01 04:00:00               51.866920    10.373384    23.340114   \n",
            "2  2024-01-01 05:00:00               54.469070    10.893814    24.511082   \n",
            "3  2024-01-01 06:00:00               54.235924    10.847185    24.406166   \n",
            "4  2024-01-01 07:00:00               57.192543    11.438509    25.736644   \n",
            "\n",
            "   power_gen_3  \n",
            "0    18.584079  \n",
            "1    18.153422  \n",
            "2    19.064175  \n",
            "3    18.982573  \n",
            "4    20.017390  \n"
          ]
        }
      ],
      "source": [
        "import pandas as pd\n",
        "\n",
        "# Assuming you've already loaded your dataset into a DataFrame named df\n",
        "df = pd.read_csv('/content/drive/MyDrive/HackStars code /Power_predicted_values.csv')  # Uncomment this line if you need to load the dataset from a CSV file\n",
        "\n",
        "# Calculate the split for each of the new columns\n",
        "df['power_gen_1'] = df['Power_predicted_values'] * 0.20\n",
        "df['power_gen_2'] = df['Power_predicted_values'] * 0.45\n",
        "df['power_gen_3'] = df['Power_predicted_values'] * 0.35\n",
        "\n",
        "# Your DataFrame now has the original columns plus the three new columns with the power generation split accordingly\n",
        "print(df.head())  # Just to verify the new columns are added correctly"
      ]
    },
    {
      "cell_type": "code",
      "source": [
        "df.to_csv('Power Updated.csv')"
      ],
      "metadata": {
        "id": "5wyMMlwQ5yTK"
      },
      "execution_count": 5,
      "outputs": []
    }
  ]
}